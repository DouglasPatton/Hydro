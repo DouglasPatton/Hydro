{
 "cells": [
  {
   "cell_type": "code",
   "execution_count": 6,
   "metadata": {},
   "outputs": [
    {
     "name": "stdout",
     "output_type": "stream",
     "text": [
      "Overwriting USGShydro.py\n"
     ]
    }
   ],
   "source": [
    "%%writefile USGShydro.py\n",
    "import gzip\n",
    "from urllib.request import urlopen, Request\n",
    "import sys\n",
    "import os\n",
    "import xml.etree.ElementTree as ET\n",
    "\n",
    "class Hydrosite():\n",
    "    '''makes parent class hydrosite, child will be hydrositedata, and grandchild is hydrositedatamodel. '''\n",
    "    def __init__(self, site):\n",
    "        self.site=site\n",
    "        self.sitecode=site[-8:]\n",
    "        self.sitedirectory='data/usgs-huc8-'+self.sitecode\n",
    "        if not os.path.exists(self.sitedirectory):\n",
    "            os.makedirs(self.sitedirectory)\n",
    "\n",
    "    \n",
    "class Hydrositedata(Hydrosite): \n",
    "    '''makes child of Hydrosite that has its own child Hydrositedatamodel'''\n",
    "    def __init__(self, site, start, end, paramlist):\n",
    "        super().__init__(site)\n",
    "        self.start=start\n",
    "        self.end=end\n",
    "        self.paramlist=paramlist\n",
    "        print('a')\n",
    "        \n",
    "    def get_data(self):\n",
    "        baseurl='https://waterservices.usgs.gov/nwis/iv/?'\n",
    "        theformat='format=waterml,2.0'\n",
    "        parameter='parameterCd='+','.join(self.paramlist)\n",
    "        urlsuffix=theformat+'&'+self.site+'&'+self.start+'&'+self.end+'&'+parameter+'&'+'siteStatus=all'\n",
    "        self.requesturl=baseurl+urlsuffix\n",
    "        self.datapath=os.path.join(self.sitedirectory,urlsuffix+'.xml')\n",
    "        #print(requesturl)\n",
    "        if os.path.exists(self.datapath):\n",
    "            self.data=ET.parse(self.datapath) #add try clause?\n",
    "            self.root=self.data.getroot() \n",
    "        else:    \n",
    "            response=urlopen(Request(self.requesturl,headers={\"Accept-Encoding\": \"gzip\"})) \n",
    "            self.data=gzip.open(response, 'rb').read()\n",
    "            self.root=ET.fromstring(self.data)\n",
    "            #working on save problems:\n",
    "            savefile=open(self.datapath,'w')\n",
    "            savefile.write(ET.tostring(self.root).decode(\"utf-8\"))\n",
    "            savefile.close()\n",
    "            #self.root.xml.write(self.datapath)\n",
    "            \n",
    "    def tonumpyarray()\n",
    "        \n",
    "\n",
    "class Hydrositedatamodel(Hydrositedata):\n",
    "    '''makes grandchild of hydrosite,child of hydrositedata'''\n",
    "    def __init__(self, site, start, end, paramlist, modelfeatures):\n",
    "        super().__init__(site,start,end,paramlist)\n",
    "        self.modelfeatures=modelfeatures\n",
    "        print('b')\n",
    "\n",
    "\n",
    "    "
   ]
  },
  {
   "cell_type": "code",
   "execution_count": null,
   "metadata": {},
   "outputs": [],
   "source": [
    "%%writefile RainfallRunoff.py\n",
    "\n",
    "import numpy as np\n",
    "class RRtimeseries()\n",
    "'''take in column of dates, rainfall, and runoff and builds distributed lag model'''\n",
    "    def __init__(self,time,rainfall,runoff,maxlag):\n",
    "        self.timeraw=time\n",
    "        self.rainfallraw=ranfall\n",
    "        self.runoffraw=runoff\n",
    "        self.maxlag=maxlag\n",
    "        \n",
    "        "
   ]
  }
 ],
 "metadata": {
  "kernelspec": {
   "display_name": "Python 3",
   "language": "python",
   "name": "python3"
  },
  "language_info": {
   "codemirror_mode": {
    "name": "ipython",
    "version": 3
   },
   "file_extension": ".py",
   "mimetype": "text/x-python",
   "name": "python",
   "nbconvert_exporter": "python",
   "pygments_lexer": "ipython3",
   "version": "3.7.1"
  }
 },
 "nbformat": 4,
 "nbformat_minor": 2
}
