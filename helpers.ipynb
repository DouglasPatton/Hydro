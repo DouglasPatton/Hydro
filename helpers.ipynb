{
 "cells": [
  {
   "cell_type": "code",
   "execution_count": 26,
   "metadata": {},
   "outputs": [
    {
     "name": "stdout",
     "output_type": "stream",
     "text": [
      "Overwriting USGShydro.py\n"
     ]
    }
   ],
   "source": [
    "%%writefile USGShydro.py\n",
    "import gzip\n",
    "from urllib.request import urlopen, Request\n",
    "from urllib import request\n",
    "import os\n",
    "\n",
    "\n",
    "class Hydrosite():\n",
    "    '''makes parent class hydrosite, child will be hydrositedata, and grandchild is hydrositedatamodel. '''\n",
    "    def __init__(self, site):\n",
    "        self.site=site\n",
    "        self.sitecode=site[-8:]\n",
    "        directory='usgs-huc8-'+self.sitecode\n",
    "        if not os.path.exists(directory):\n",
    "            os.makedirs(directory)\n",
    "\n",
    "    \n",
    "class Hydrositedata(Hydrosite): \n",
    "    '''makes child of Hydrosite that has its own child Hydrositedatamodel'''\n",
    "    def __init__(self, site, start, end, paramlist):\n",
    "        super().__init__(site)\n",
    "        self.start=start\n",
    "        self.end=end\n",
    "        self.paramlist=paramlist\n",
    "        print('a')\n",
    "        \n",
    "    def get_data(self):\n",
    "        baseurl='https://waterservices.usgs.gov/nwis/iv/?'\n",
    "        theformat='format=waterml,2.0'\n",
    "        parameter='parameterCd='+','.join(self.paramlist)\n",
    "        requesturl = baseurl+theformat+'&'+self.site+'&'+self.start+'&'+self.end+'&'+parameter+'&'+'siteStatus=all'\n",
    "        print(requesturl)\n",
    "        #response=urlopen(Request(requesturl,headers={\"Accept-Encoding\": \"gzip\"})) \n",
    "        #return gzip.open(response, 'rb').read()\n",
    "\n",
    "\n",
    "class Hydrositedatamodel(Hydrositedata):\n",
    "    '''makes grandchild of hydrosite,child of hydrositedata'''\n",
    "    def __init__(self, site, start, end, paramlist, modelfeatures):\n",
    "        super().__init__(site,start,end,paramlist)\n",
    "        self.modelfeatures=modelfeatures\n",
    "        print('b')\n",
    "\n",
    "\n",
    "    "
   ]
  },
  {
   "cell_type": "code",
   "execution_count": null,
   "metadata": {},
   "outputs": [],
   "source": []
  }
 ],
 "metadata": {
  "kernelspec": {
   "display_name": "Python 3",
   "language": "python",
   "name": "python3"
  },
  "language_info": {
   "codemirror_mode": {
    "name": "ipython",
    "version": 3
   },
   "file_extension": ".py",
   "mimetype": "text/x-python",
   "name": "python",
   "nbconvert_exporter": "python",
   "pygments_lexer": "ipython3",
   "version": "3.7.1"
  }
 },
 "nbformat": 4,
 "nbformat_minor": 2
}
