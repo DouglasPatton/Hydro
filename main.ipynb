{
 "cells": [
  {
   "cell_type": "code",
   "execution_count": 2,
   "metadata": {},
   "outputs": [],
   "source": [
    "import numpy as np\n",
    "\n",
    "#import matplotlib.pyplot as plt\n",
    "#from bokeh.io import push_notebook, show, output_notebook; \n",
    "#from bokeh.plotting import figure; \n",
    "#from bokeh.layouts import column\n",
    "#output_notebook()\n",
    "\n",
    "import USGShydro\n"
   ]
  },
  {
   "cell_type": "markdown",
   "metadata": {},
   "source": [
    "to do:\n",
    "-universalize the procedure for other sites\n",
    "\n",
    "USGShydro.py\n",
    "- ~~ownload rainfall~~ \n",
    "- ~~download runoff~~\n",
    "- ~~research time conversions~~\n",
    "- ~~match data values aross time values~~\n",
    "- ~~convert data to numpy array~~\n",
    "- merge time series from different XML files capability?\n",
    "\n",
    "RainfallRunoff.py\n",
    "- create time series dataset of lags, etc.\n",
    "- drop observations with missing values\n",
    "- run rainfall-runoff model\n",
    "- plot predicted runoff vs. actual\n",
    "- predict days above flood stage with models trained over different time periods\n",
    "\n",
    "\n",
    "-- create tool to query sites for availability of needed series\n",
    "--compare sites and see if model relates to hydrologic featues, basin topography, landcover, etc."
   ]
  },
  {
   "cell_type": "code",
   "execution_count": 17,
   "metadata": {},
   "outputs": [
    {
     "name": "stdout",
     "output_type": "stream",
     "text": [
      "785 3\n"
     ]
    }
   ],
   "source": [
    "site='sites=02314500'\n",
    "#start='startDT=1951-01-01T00:00%2b0000'\n",
    "start='startDT=2019-05-18T00:00%2b0000'#short interval for practice\n",
    "end='endDT=2019-05-19T06:56-0400'\n",
    "start='startDT=2011-01-01T00:00%2b0000'#short interval for practice\n",
    "end='endDT=2011-01-09T00:00-0400'\n",
    "\n",
    "#data1=getUSGS.Get_data(site, start, end)\n",
    "paramlist=['00045', '00065'] #must be entered as strings\n",
    "modelfeatures=[]\n",
    "try1=USGShydro.Hydrositedatamodel(site,start,end,paramlist,modelfeatures)"
   ]
  },
  {
   "cell_type": "code",
   "execution_count": 4,
   "metadata": {},
   "outputs": [
    {
     "data": {
      "text/plain": [
       "0.0"
      ]
     },
     "execution_count": 4,
     "metadata": {},
     "output_type": "execute_result"
    }
   ],
   "source": [
    "float(try1.extracted[0][1][1])"
   ]
  },
  {
   "cell_type": "code",
   "execution_count": 20,
   "metadata": {},
   "outputs": [
    {
     "data": {
      "text/plain": [
       "array([[1.250e+01, 0.000e+00, 7.000e-01],\n",
       "       [1.275e+01, 0.000e+00, 7.000e-01],\n",
       "       [1.300e+01, 0.000e+00, 7.000e-01],\n",
       "       [1.325e+01, 0.000e+00, 7.000e-01],\n",
       "       [1.350e+01, 0.000e+00, 7.000e-01],\n",
       "       [1.375e+01, 0.000e+00, 7.000e-01],\n",
       "       [1.400e+01, 0.000e+00, 7.000e-01],\n",
       "       [1.425e+01, 0.000e+00, 7.000e-01],\n",
       "       [1.450e+01, 0.000e+00, 7.000e-01],\n",
       "       [1.475e+01, 0.000e+00, 7.100e-01],\n",
       "       [1.500e+01, 0.000e+00, 7.000e-01],\n",
       "       [1.525e+01, 0.000e+00, 7.100e-01],\n",
       "       [1.550e+01, 0.000e+00, 7.100e-01],\n",
       "       [1.575e+01, 0.000e+00, 7.100e-01],\n",
       "       [1.600e+01, 0.000e+00, 7.100e-01],\n",
       "       [1.625e+01, 0.000e+00, 7.100e-01],\n",
       "       [1.650e+01, 0.000e+00, 7.100e-01],\n",
       "       [1.675e+01, 0.000e+00, 7.100e-01],\n",
       "       [1.700e+01, 0.000e+00, 7.100e-01],\n",
       "       [1.725e+01, 0.000e+00, 7.100e-01],\n",
       "       [1.750e+01, 0.000e+00, 7.100e-01],\n",
       "       [1.775e+01, 0.000e+00, 7.100e-01],\n",
       "       [1.800e+01, 0.000e+00, 7.200e-01],\n",
       "       [1.825e+01, 0.000e+00, 7.100e-01],\n",
       "       [1.850e+01, 0.000e+00, 7.200e-01],\n",
       "       [1.875e+01, 0.000e+00, 7.100e-01],\n",
       "       [1.900e+01, 0.000e+00, 7.100e-01],\n",
       "       [1.925e+01, 0.000e+00, 7.100e-01],\n",
       "       [1.950e+01, 0.000e+00, 7.100e-01],\n",
       "       [1.975e+01, 0.000e+00, 7.100e-01],\n",
       "       [2.000e+01, 0.000e+00, 7.100e-01],\n",
       "       [2.025e+01, 0.000e+00, 7.100e-01],\n",
       "       [2.050e+01, 0.000e+00, 7.100e-01],\n",
       "       [2.075e+01, 1.000e-02, 7.100e-01],\n",
       "       [2.100e+01, 2.000e-02, 7.200e-01],\n",
       "       [2.125e+01, 0.000e+00, 7.200e-01],\n",
       "       [2.150e+01, 2.000e-02, 7.300e-01],\n",
       "       [2.175e+01, 2.000e-02, 7.400e-01],\n",
       "       [2.200e+01, 3.000e-02, 7.400e-01],\n",
       "       [2.225e+01, 1.000e-02, 7.500e-01],\n",
       "       [2.250e+01, 2.000e-02, 7.500e-01],\n",
       "       [2.275e+01, 2.000e-02, 7.600e-01],\n",
       "       [2.300e+01, 2.000e-02, 7.600e-01],\n",
       "       [2.325e+01, 2.000e-02, 7.600e-01],\n",
       "       [2.350e+01, 2.000e-02, 7.600e-01],\n",
       "       [2.375e+01, 2.000e-02, 7.600e-01],\n",
       "       [0.000e+00, 1.000e-02, 7.600e-01],\n",
       "       [2.500e-01, 1.000e-02, 7.600e-01],\n",
       "       [5.000e-01, 1.000e-02, 7.600e-01],\n",
       "       [7.500e-01, 0.000e+00, 7.600e-01],\n",
       "       [1.000e+00, 1.000e-02, 7.600e-01],\n",
       "       [1.250e+00, 0.000e+00, 7.600e-01],\n",
       "       [1.500e+00, 0.000e+00, 7.600e-01],\n",
       "       [1.750e+00, 0.000e+00, 7.600e-01],\n",
       "       [2.000e+00, 0.000e+00, 7.600e-01],\n",
       "       [2.250e+00, 0.000e+00, 7.600e-01],\n",
       "       [2.500e+00, 0.000e+00, 7.600e-01],\n",
       "       [2.750e+00, 0.000e+00, 7.600e-01],\n",
       "       [3.000e+00, 0.000e+00, 7.600e-01],\n",
       "       [3.250e+00, 0.000e+00, 7.700e-01],\n",
       "       [3.500e+00, 1.000e-02, 7.700e-01],\n",
       "       [3.750e+00, 1.000e-02, 7.800e-01],\n",
       "       [4.000e+00, 2.000e-02, 7.900e-01],\n",
       "       [4.250e+00, 3.000e-02, 8.000e-01],\n",
       "       [4.500e+00, 2.000e-02, 8.100e-01],\n",
       "       [4.750e+00, 2.000e-02, 8.200e-01],\n",
       "       [5.000e+00, 3.000e-02, 8.400e-01],\n",
       "       [5.250e+00, 3.000e-02, 8.400e-01],\n",
       "       [5.500e+00, 3.000e-02, 8.500e-01],\n",
       "       [5.750e+00, 2.000e-02, 8.500e-01],\n",
       "       [6.000e+00, 3.000e-02, 8.500e-01],\n",
       "       [6.250e+00, 2.000e-02, 8.500e-01],\n",
       "       [6.500e+00, 2.000e-02, 8.500e-01],\n",
       "       [6.750e+00, 2.000e-02, 8.600e-01],\n",
       "       [7.000e+00, 3.000e-02, 8.600e-01],\n",
       "       [7.250e+00, 2.000e-02, 8.500e-01],\n",
       "       [7.500e+00, 2.000e-02, 8.500e-01],\n",
       "       [7.750e+00, 1.000e-02, 8.600e-01],\n",
       "       [8.000e+00, 2.000e-02, 8.600e-01],\n",
       "       [8.250e+00, 1.000e-02, 8.500e-01],\n",
       "       [8.500e+00, 2.000e-02, 8.500e-01],\n",
       "       [8.750e+00, 1.000e-02, 8.500e-01],\n",
       "       [9.000e+00, 1.000e-02, 8.600e-01],\n",
       "       [9.250e+00, 1.000e-02, 8.500e-01],\n",
       "       [9.500e+00, 1.000e-02, 8.600e-01],\n",
       "       [9.750e+00, 1.000e-02, 8.500e-01],\n",
       "       [1.000e+01, 0.000e+00, 8.600e-01],\n",
       "       [1.025e+01, 0.000e+00, 8.600e-01],\n",
       "       [1.050e+01, 0.000e+00, 8.600e-01],\n",
       "       [1.075e+01, 0.000e+00, 8.600e-01],\n",
       "       [1.100e+01, 0.000e+00, 8.600e-01],\n",
       "       [1.125e+01, 0.000e+00, 8.600e-01],\n",
       "       [1.150e+01, 0.000e+00, 8.600e-01],\n",
       "       [1.175e+01, 0.000e+00, 8.600e-01],\n",
       "       [1.200e+01, 0.000e+00, 8.600e-01],\n",
       "       [1.225e+01, 0.000e+00, 8.600e-01],\n",
       "       [1.250e+01, 1.000e-02, 8.600e-01],\n",
       "       [1.275e+01, 0.000e+00, 8.600e-01],\n",
       "       [1.300e+01, 1.000e-02, 8.600e-01],\n",
       "       [1.325e+01, 0.000e+00, 8.700e-01]])"
      ]
     },
     "execution_count": 20,
     "metadata": {},
     "output_type": "execute_result"
    }
   ],
   "source": [
    "try1.data_array[50:150]"
   ]
  },
  {
   "cell_type": "code",
   "execution_count": 12,
   "metadata": {},
   "outputs": [
    {
     "data": {
      "text/plain": [
       "'https://waterservices.usgs.gov/nwis/iv/?format=waterml,2.0&sites=02314495&startDT=2019-05-18T00:00%2b0000&endDT=2019-05-19T06:56-0400&parameterCd=00061,00045&siteStatus=all'"
      ]
     },
     "execution_count": 12,
     "metadata": {},
     "output_type": "execute_result"
    }
   ],
   "source": [
    "try1.requesturl"
   ]
  },
  {
   "cell_type": "code",
   "execution_count": null,
   "metadata": {},
   "outputs": [],
   "source": []
  },
  {
   "cell_type": "code",
   "execution_count": null,
   "metadata": {},
   "outputs": [],
   "source": []
  }
 ],
 "metadata": {
  "kernelspec": {
   "display_name": "Python 3",
   "language": "python",
   "name": "python3"
  },
  "language_info": {
   "codemirror_mode": {
    "name": "ipython",
    "version": 3
   },
   "file_extension": ".py",
   "mimetype": "text/x-python",
   "name": "python",
   "nbconvert_exporter": "python",
   "pygments_lexer": "ipython3",
   "version": "3.7.1"
  }
 },
 "nbformat": 4,
 "nbformat_minor": 2
}
