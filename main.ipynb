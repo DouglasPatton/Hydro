{
 "cells": [
  {
   "cell_type": "code",
   "execution_count": 2,
   "metadata": {},
   "outputs": [],
   "source": [
    "import numpy as np\n",
    "\n",
    "#import matplotlib.pyplot as plt\n",
    "#from bokeh.io import push_notebook, show, output_notebook; \n",
    "#from bokeh.plotting import figure; \n",
    "#from bokeh.layouts import column\n",
    "#output_notebook()\n",
    "\n",
    "import USGShydro\n"
   ]
  },
  {
   "cell_type": "markdown",
   "metadata": {},
   "source": [
    "to do:\n",
    "-universalize the procedure for other sites\n",
    "\n",
    "USGShydro.py\n",
    "- ~~ownload rainfall~~ \n",
    "- ~~download runoff~~\n",
    "- research time conversions\n",
    "- ~~match data values aross time values~~\n",
    "- convert data to numpy array\n",
    "- merge time series from different XML files capability?\n",
    "\n",
    "RainfallRunoff.py\n",
    "- create time series dataset of lags, etc.\n",
    "- drop observations with missing values\n",
    "- run rainfall-runoff model\n",
    "- plot predicted runoff vs. actual\n",
    "- predict days above flood stage with models trained over different time periods\n",
    "\n",
    "\n",
    "-- create tool to query sites for availability of needed series\n",
    "--compare sites and see if model relates to hydrologic featues, basin topography, landcover, etc."
   ]
  },
  {
   "cell_type": "code",
   "execution_count": 3,
   "metadata": {},
   "outputs": [
    {
     "name": "stdout",
     "output_type": "stream",
     "text": [
      "140 3\n"
     ]
    }
   ],
   "source": [
    "site='sites=02314495'\n",
    "#start='startDT=1951-01-01T00:00%2b0000'\n",
    "start='startDT=2019-05-18T00:00%2b0000'#short interval for practice\n",
    "end='endDT=2019-05-19T06:56-0400'\n",
    "#data1=getUSGS.Get_data(site, start, end)\n",
    "paramlist=['00065', '00045'] #must be entered as strings\n",
    "modelfeatures=[]\n",
    "try1=USGShydro.Hydrositedatamodel(site,start,end,paramlist,modelfeatures)"
   ]
  },
  {
   "cell_type": "code",
   "execution_count": 4,
   "metadata": {},
   "outputs": [
    {
     "data": {
      "text/plain": [
       "0.0"
      ]
     },
     "execution_count": 4,
     "metadata": {},
     "output_type": "execute_result"
    }
   ],
   "source": [
    "float(try1.extracted[0][1][1])"
   ]
  },
  {
   "cell_type": "code",
   "execution_count": 5,
   "metadata": {},
   "outputs": [
    {
     "data": {
      "text/plain": [
       "array([[ 0.  ,  0.  ,  4.61],\n",
       "       [ 0.25,  0.  ,  4.61],\n",
       "       [ 0.5 ,  0.  ,  4.61],\n",
       "       [ 0.75,  0.  ,  4.61],\n",
       "       [ 1.  ,  0.  ,  4.61],\n",
       "       [ 1.25,  0.  ,  4.61],\n",
       "       [ 1.5 ,  0.  ,  4.61],\n",
       "       [ 1.75,  0.  ,  4.61],\n",
       "       [ 2.  ,  0.  ,  4.61],\n",
       "       [ 2.25,  0.  ,  4.61],\n",
       "       [ 2.5 ,  0.  ,  4.6 ],\n",
       "       [ 2.75,  0.  ,  4.6 ],\n",
       "       [ 3.  ,  0.  ,  4.61],\n",
       "       [ 3.25,  0.  ,  4.61],\n",
       "       [ 3.5 ,  0.  ,  4.61],\n",
       "       [ 3.75,  0.  ,  4.6 ],\n",
       "       [ 4.  ,  0.  ,  4.6 ],\n",
       "       [ 4.25,  0.  ,  4.6 ],\n",
       "       [ 4.5 ,  0.  ,  4.61],\n",
       "       [ 4.75,  0.  ,  4.6 ],\n",
       "       [ 5.  ,  0.  ,  4.6 ],\n",
       "       [ 5.25,  0.  ,  4.59],\n",
       "       [ 5.5 ,  0.  ,  4.59],\n",
       "       [ 5.75,  0.  ,  4.59],\n",
       "       [ 6.  ,  0.  ,  4.59],\n",
       "       [ 6.25,  0.  ,  4.61],\n",
       "       [ 6.5 ,  0.  ,  4.59],\n",
       "       [ 6.75,  0.  ,  4.59],\n",
       "       [ 7.  ,  0.  ,  4.59],\n",
       "       [ 7.25,  0.  ,  4.58],\n",
       "       [ 7.5 ,  0.  ,  4.59],\n",
       "       [ 7.75,  0.  ,  4.58],\n",
       "       [ 8.  ,  0.  ,  4.58],\n",
       "       [ 8.25,  0.  ,  4.58],\n",
       "       [ 8.5 ,  0.  ,  4.58],\n",
       "       [ 8.75,  0.  ,  4.58],\n",
       "       [ 9.  ,  0.  ,  4.58],\n",
       "       [ 9.25,  0.  ,  4.58],\n",
       "       [ 9.5 ,  0.  ,  4.58],\n",
       "       [ 9.75,  0.  ,  4.58],\n",
       "       [10.  ,  0.  ,  4.57],\n",
       "       [10.25,  0.  ,  4.57],\n",
       "       [10.5 ,  0.  ,  4.57],\n",
       "       [10.75,  0.  ,  4.57],\n",
       "       [11.  ,  0.  ,  4.57],\n",
       "       [11.25,  0.  ,  4.57],\n",
       "       [11.5 ,  0.  ,  4.57],\n",
       "       [11.75,  0.  ,  4.57],\n",
       "       [12.  ,  0.  ,  4.56],\n",
       "       [12.25,  0.  ,  4.56],\n",
       "       [12.5 ,  0.  ,  4.56],\n",
       "       [12.75,  0.  ,  4.56],\n",
       "       [13.  ,  0.  ,  4.56],\n",
       "       [13.25,  0.  ,  4.56],\n",
       "       [13.5 ,  0.  ,  4.56],\n",
       "       [13.75,  0.  ,  4.55],\n",
       "       [14.  ,  0.  ,  4.55],\n",
       "       [14.25,  0.  ,  4.56],\n",
       "       [14.5 ,  0.  ,  4.55],\n",
       "       [14.75,  0.  ,  4.55],\n",
       "       [15.  ,  0.  ,  4.55],\n",
       "       [15.25,  0.  ,  4.55],\n",
       "       [15.5 ,  0.  ,  4.55],\n",
       "       [15.75,  0.  ,  4.55],\n",
       "       [16.  ,  0.  ,  4.55],\n",
       "       [16.25,  0.  ,  4.54],\n",
       "       [16.5 ,  0.  ,  4.54],\n",
       "       [16.75,  0.  ,  4.54],\n",
       "       [17.  ,  0.  ,  4.54],\n",
       "       [17.25,  0.  ,  4.54],\n",
       "       [17.5 ,  0.  ,  4.54],\n",
       "       [17.75,  0.  ,  4.54],\n",
       "       [18.  ,  0.  ,  4.54],\n",
       "       [18.25,  0.  ,  4.54],\n",
       "       [18.5 ,  0.  ,  4.54],\n",
       "       [18.75,  0.  ,  4.53],\n",
       "       [19.  ,  0.  ,  4.53],\n",
       "       [19.25,  0.  ,  4.53],\n",
       "       [19.5 ,  0.  ,  4.53],\n",
       "       [19.75,  0.  ,  4.53],\n",
       "       [20.  ,  0.  ,  4.53],\n",
       "       [20.25,  0.  ,  4.53],\n",
       "       [20.5 ,  0.  ,  4.53],\n",
       "       [20.75,  0.  ,  4.53],\n",
       "       [21.  ,  0.  ,  4.53],\n",
       "       [21.25,  0.  ,  4.52],\n",
       "       [21.5 ,  0.  ,  4.52],\n",
       "       [21.75,  0.  ,  4.52],\n",
       "       [22.  ,  0.  ,  4.52],\n",
       "       [22.25,  0.  ,  4.52],\n",
       "       [22.5 ,  0.  ,  4.52],\n",
       "       [22.75,  0.  ,  4.52],\n",
       "       [23.  ,  0.  ,  4.52],\n",
       "       [23.25,  0.  ,  4.52],\n",
       "       [23.5 ,  0.  ,  4.52],\n",
       "       [23.75,  0.  ,  4.51],\n",
       "       [ 0.  ,  0.  ,  4.51],\n",
       "       [ 0.25,  0.  ,  4.51],\n",
       "       [ 0.5 ,  0.  ,  4.51],\n",
       "       [ 0.75,  0.  ,  4.51],\n",
       "       [ 1.  ,  0.  ,  4.51],\n",
       "       [ 1.25,  0.  ,  4.51],\n",
       "       [ 1.5 ,  0.  ,  4.5 ],\n",
       "       [ 1.75,  0.  ,  4.5 ],\n",
       "       [ 2.  ,  0.  ,  4.5 ],\n",
       "       [ 2.25,  0.  ,  4.5 ],\n",
       "       [ 2.5 ,  0.  ,  4.5 ],\n",
       "       [ 2.75,  0.  ,  4.5 ],\n",
       "       [ 3.  ,  0.  ,  4.5 ],\n",
       "       [ 3.25,  0.  ,  4.5 ],\n",
       "       [ 3.5 ,  0.  ,  4.5 ],\n",
       "       [ 3.75,  0.  ,  4.5 ],\n",
       "       [ 4.  ,  0.  ,  4.5 ],\n",
       "       [ 4.25,  0.  ,  4.5 ],\n",
       "       [ 4.5 ,  0.  ,  4.49],\n",
       "       [ 4.75,  0.  ,  4.5 ],\n",
       "       [ 5.  ,  0.  ,  4.49],\n",
       "       [ 5.25,  0.  ,  4.49],\n",
       "       [ 5.5 ,  0.  ,  4.49],\n",
       "       [ 5.75,  0.  ,  4.49],\n",
       "       [ 6.  ,  0.  ,  4.49],\n",
       "       [ 6.25,  0.  ,  4.49],\n",
       "       [ 6.5 ,  0.  ,  4.49],\n",
       "       [ 6.75,  0.  ,  4.48],\n",
       "       [ 7.  ,  0.  ,  4.48],\n",
       "       [ 7.25,  0.  ,  4.48],\n",
       "       [ 7.5 ,  0.  ,  4.48],\n",
       "       [ 7.75,  0.  ,  4.48],\n",
       "       [ 8.  ,  0.  ,  4.48],\n",
       "       [ 8.25,  0.  ,  4.47],\n",
       "       [ 8.5 ,  0.  ,  4.47],\n",
       "       [ 8.75,  0.  ,  4.47],\n",
       "       [ 9.  ,  0.  ,  4.47],\n",
       "       [ 9.25,  0.  ,  4.47],\n",
       "       [ 9.5 ,  0.  ,  4.47],\n",
       "       [ 9.75,  0.  ,  4.47],\n",
       "       [10.  ,  0.  ,  4.47],\n",
       "       [10.25,  0.  ,  4.47],\n",
       "       [10.5 ,  0.  ,  4.46],\n",
       "       [10.75,  0.  ,  4.46]])"
      ]
     },
     "execution_count": 5,
     "metadata": {},
     "output_type": "execute_result"
    }
   ],
   "source": [
    "try1.data_array"
   ]
  },
  {
   "cell_type": "code",
   "execution_count": null,
   "metadata": {},
   "outputs": [],
   "source": [
    "try1.extracted"
   ]
  },
  {
   "cell_type": "code",
   "execution_count": null,
   "metadata": {},
   "outputs": [],
   "source": []
  },
  {
   "cell_type": "code",
   "execution_count": null,
   "metadata": {},
   "outputs": [],
   "source": []
  }
 ],
 "metadata": {
  "kernelspec": {
   "display_name": "Python 3",
   "language": "python",
   "name": "python3"
  },
  "language_info": {
   "codemirror_mode": {
    "name": "ipython",
    "version": 3
   },
   "file_extension": ".py",
   "mimetype": "text/x-python",
   "name": "python",
   "nbconvert_exporter": "python",
   "pygments_lexer": "ipython3",
   "version": "3.7.1"
  }
 },
 "nbformat": 4,
 "nbformat_minor": 2
}
