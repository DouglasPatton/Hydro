{
 "cells": [
  {
   "cell_type": "code",
   "execution_count": 1,
   "metadata": {},
   "outputs": [],
   "source": [
    "import numpy as np\n",
    "\n",
    "#import matplotlib.pyplot as plt\n",
    "#from bokeh.io import push_notebook, show, output_notebook; \n",
    "#from bokeh.plotting import figure; \n",
    "#from bokeh.layouts import column\n",
    "#output_notebook()\n",
    "\n",
    "import USGShydro\n"
   ]
  },
  {
   "cell_type": "markdown",
   "metadata": {},
   "source": [
    "to do:\n",
    "\n",
    "- download rainfall\n",
    "- download runoff\n",
    "- create time series dataset of lags, etc.\n",
    "- drop observations with missing values\n",
    "- run rainfall-runoff model\n",
    "- plot predicted runoff vs. actual\n",
    "- predict days above flood stage with models trained over different time periods\n",
    "\n",
    "-universalize the procedure for other sites\n",
    "-- create tool to query sites for dates and availability of needed series\n",
    "-compare sites and see if model relates to hydrologic featues, basin topography, landcover, etc."
   ]
  },
  {
   "cell_type": "code",
   "execution_count": 2,
   "metadata": {},
   "outputs": [
    {
     "name": "stdout",
     "output_type": "stream",
     "text": [
      "a\n",
      "b\n"
     ]
    }
   ],
   "source": [
    "site='sites=02314495'\n",
    "start='startDT=1951-01-01T00:00%2b0000'\n",
    "start='startDT=2019-01-01T00:00%2b0000'#short interval for practice\n",
    "end='endDT=2019-04-19T06:56-0400'\n",
    "#data1=getUSGS.Get_data(site, start, end)\n",
    "paramlist=['00065', '000045'] #must be entered as strings\n",
    "modelfeatures=[]\n",
    "try1=USGShydro.Hydrositedatamodel(site,start,end,paramlist,modelfeatures)"
   ]
  },
  {
   "cell_type": "code",
   "execution_count": 3,
   "metadata": {},
   "outputs": [
    {
     "name": "stdout",
     "output_type": "stream",
     "text": [
      "https://waterservices.usgs.gov/nwis/iv/?format=waterml,2.0&sites=02314495&startDT=2019-01-01T00:00%2b0000&endDT=2019-04-19T06:56-0400&parameterCd=00065,000045&siteStatus=all\n"
     ]
    }
   ],
   "source": [
    "try1.get_data()"
   ]
  }
 ],
 "metadata": {
  "kernelspec": {
   "display_name": "Python 3",
   "language": "python",
   "name": "python3"
  },
  "language_info": {
   "codemirror_mode": {
    "name": "ipython",
    "version": 3
   },
   "file_extension": ".py",
   "mimetype": "text/x-python",
   "name": "python",
   "nbconvert_exporter": "python",
   "pygments_lexer": "ipython3",
   "version": "3.7.1"
  }
 },
 "nbformat": 4,
 "nbformat_minor": 2
}
