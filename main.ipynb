{
 "cells": [
  {
   "cell_type": "code",
   "execution_count": 1,
   "metadata": {},
   "outputs": [],
   "source": [
    "import numpy as np\n",
    "\n",
    "#import matplotlib.pyplot as plt\n",
    "#from bokeh.io import push_notebook, show, output_notebook; \n",
    "#from bokeh.plotting import figure; \n",
    "#from bokeh.layouts import column\n",
    "#output_notebook()\n",
    "\n",
    "import USGShydro\n"
   ]
  },
  {
   "cell_type": "markdown",
   "metadata": {},
   "source": [
    "to do:\n",
    "\n",
    "USGShydro.py\n",
    "- ~~ownload rainfall~~ \n",
    "- ~~download runoff~~\n",
    "- merge data capability?\n",
    "- convert data to numpy array\n",
    "\n",
    "RainfallRunoff.py\n",
    "- create time series dataset of lags, etc.\n",
    "- drop observations with missing values\n",
    "- run rainfall-runoff model\n",
    "- plot predicted runoff vs. actual\n",
    "- predict days above flood stage with models trained over different time periods\n",
    "\n",
    "-universalize the procedure for other sites\n",
    "-- create tool to query sites for dates and availability of needed series\n",
    "-compare sites and see if model relates to hydrologic featues, basin topography, landcover, etc."
   ]
  },
  {
   "cell_type": "code",
   "execution_count": 2,
   "metadata": {},
   "outputs": [
    {
     "name": "stdout",
     "output_type": "stream",
     "text": [
      "a\n",
      "b\n"
     ]
    }
   ],
   "source": [
    "site='sites=02314495'\n",
    "start='startDT=1951-01-01T00:00%2b0000'\n",
    "start='startDT=2019-05-18T00:00%2b0000'#short interval for practice\n",
    "end='endDT=2019-05-19T06:56-0400'\n",
    "#data1=getUSGS.Get_data(site, start, end)\n",
    "paramlist=['00065', '00045'] #must be entered as strings\n",
    "modelfeatures=[]\n",
    "try1=USGShydro.Hydrositedatamodel(site,start,end,paramlist,modelfeatures)"
   ]
  },
  {
   "cell_type": "code",
   "execution_count": 3,
   "metadata": {},
   "outputs": [],
   "source": [
    "try1.get_data()"
   ]
  },
  {
   "cell_type": "code",
   "execution_count": 7,
   "metadata": {},
   "outputs": [
    {
     "name": "stdout",
     "output_type": "stream",
     "text": [
      "i= 1\n",
      "parent: {http://www.opengis.net/gml/3.2}identifier # {'codeSpace': 'http://waterservices.usgs.gov/nwis/iv'}\n",
      "i= 2\n",
      "parent: {http://www.opengis.net/gml/3.2}name # {'codeSpace': 'http://waterservices.usgs.gov/nwis/iv'}\n",
      "i= 3\n",
      "parent: {http://www.opengis.net/waterml/2.0}metadata # {}\n",
      "i= 3 j= 1\n",
      "child: {http://www.opengis.net/waterml/2.0}DocumentMetadata # {'{http://www.opengis.net/gml/3.2}id': 'doc.USGS.MP.USGS.02314495'}\n",
      "i= 3 j= 1 k= 1\n",
      "grandchild: {http://www.opengis.net/gml/3.2}metaDataProperty # {'about': 'contact', '{http://www.w3.org/1999/xlink}href': 'http://waterservices.usgs.gov'}\n",
      "i= 3 j= 1 k= 2\n",
      "grandchild: {http://www.opengis.net/waterml/2.0}generationDate # {}\n",
      "i= 3 j= 1 k= 3\n",
      "grandchild: {http://www.opengis.net/waterml/2.0}version # {'{http://www.w3.org/1999/xlink}href': 'http://www.opengis.net/waterml/2.0', '{http://www.w3.org/1999/xlink}title': 'WaterML 2.0'}\n",
      "i= 4\n",
      "parent: {http://www.opengis.net/waterml/2.0}observationMember # {}\n",
      "i= 4 j= 1\n",
      "child: {http://www.opengis.net/om/2.0}OM_Observation # {'{http://www.opengis.net/gml/3.2}id': 'obs.USGS.02314495.00045.228515.00000'}\n",
      "i= 4 j= 1 k= 1\n",
      "grandchild: {http://www.opengis.net/om/2.0}phenomenonTime # {}\n",
      "i= 4 j= 1 k= 2\n",
      "grandchild: {http://www.opengis.net/om/2.0}resultTime # {}\n",
      "i= 4 j= 1 k= 3\n",
      "grandchild: {http://www.opengis.net/om/2.0}procedure # {}\n",
      "i= 4 j= 1 k= 4\n",
      "grandchild: {http://www.opengis.net/om/2.0}observedProperty # {'{http://www.w3.org/1999/xlink}href': 'http://waterdata.usgs.gov/nwisweb/rdf?parmCd=00045', '{http://www.w3.org/1999/xlink}title': 'Precipitation'}\n",
      "i= 4 j= 1 k= 5\n",
      "grandchild: {http://www.opengis.net/om/2.0}featureOfInterest # {'{http://www.w3.org/1999/xlink}title': 'SUWANNEE RIVER ABOVE FARGO, GA'}\n",
      "i= 4 j= 1 k= 6\n",
      "grandchild: {http://www.opengis.net/om/2.0}result # {}\n",
      "i= 5\n",
      "parent: {http://www.opengis.net/waterml/2.0}observationMember # {}\n",
      "i= 5 j= 1\n",
      "child: {http://www.opengis.net/om/2.0}OM_Observation # {'{http://www.opengis.net/gml/3.2}id': 'obs.USGS.02314495.00065.39342.00000'}\n",
      "i= 5 j= 1 k= 1\n",
      "grandchild: {http://www.opengis.net/om/2.0}phenomenonTime # {}\n",
      "i= 5 j= 1 k= 2\n",
      "grandchild: {http://www.opengis.net/om/2.0}resultTime # {}\n",
      "i= 5 j= 1 k= 3\n",
      "grandchild: {http://www.opengis.net/om/2.0}procedure # {}\n",
      "i= 5 j= 1 k= 4\n",
      "grandchild: {http://www.opengis.net/om/2.0}observedProperty # {'{http://www.w3.org/1999/xlink}href': 'http://waterdata.usgs.gov/nwisweb/rdf?parmCd=00065', '{http://www.w3.org/1999/xlink}title': 'Gage height'}\n",
      "i= 5 j= 1 k= 5\n",
      "grandchild: {http://www.opengis.net/om/2.0}featureOfInterest # {'{http://www.w3.org/1999/xlink}title': 'SUWANNEE RIVER ABOVE FARGO, GA'}\n",
      "i= 5 j= 1 k= 6\n",
      "grandchild: {http://www.opengis.net/om/2.0}result # {}\n"
     ]
    }
   ],
   "source": [
    "i=0;j=0;k=0\n",
    "for child in try1.root:\n",
    "        i+=1;print('i=',i);j=0;k=0\n",
    "        print('parent:',child.tag,'#', child.attrib)\n",
    "        for child2 in child:\n",
    "            j+=1;print('i=',i,'j=', j);k=0\n",
    "            print('child:',child2.tag,'#', child2.attrib)\n",
    "            for child3 in child2:\n",
    "                k+=1; print('i=',i,'j=', j,'k=',k)\n",
    "                print('grandchild:',child3.tag,'#', child3.attrib)\n",
    "                "
   ]
  },
  {
   "cell_type": "code",
   "execution_count": 36,
   "metadata": {},
   "outputs": [
    {
     "name": "stdout",
     "output_type": "stream",
     "text": [
      "2019-05-18T00:00:00-04:00\n",
      "2019-05-19T10:45:00-04:00\n",
      "<Element '{http://www.opengis.net/waterml/2.0}processType' at 0x7ff86f6d6ea8>\n"
     ]
    }
   ],
   "source": [
    "print(try1.root[3][0][0][0][0].text)\n",
    "print(try1.root[3][0][1][0][0].text)\n",
    "print(try1.root[3][0][2][0][0])\n",
    "\n"
   ]
  },
  {
   "cell_type": "code",
   "execution_count": 37,
   "metadata": {},
   "outputs": [
    {
     "data": {
      "text/plain": [
       "[]"
      ]
     },
     "execution_count": 37,
     "metadata": {},
     "output_type": "execute_result"
    }
   ],
   "source": [
    "try1.root.findall('{http://www.opengis.net/om/2.0}observedProperty')"
   ]
  }
 ],
 "metadata": {
  "kernelspec": {
   "display_name": "Python 3",
   "language": "python",
   "name": "python3"
  },
  "language_info": {
   "codemirror_mode": {
    "name": "ipython",
    "version": 3
   },
   "file_extension": ".py",
   "mimetype": "text/x-python",
   "name": "python",
   "nbconvert_exporter": "python",
   "pygments_lexer": "ipython3",
   "version": "3.7.1"
  }
 },
 "nbformat": 4,
 "nbformat_minor": 2
}
