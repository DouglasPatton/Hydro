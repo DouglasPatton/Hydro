{
 "cells": [
  {
   "cell_type": "markdown",
   "metadata": {},
   "source": [
    "Github will render jupyter notebooks, but Bokeh plots won't work<br>\n",
    "View this notebook with NBViewer:<br>\n",
    "https://nbviewer.jupyter.org/github/DouglasPatton/Hydro/blob/master/main.ipynb"
   ]
  },
  {
   "attachments": {},
   "cell_type": "markdown",
   "metadata": {
    "slideshow": {
     "slide_type": "slide"
    }
   },
   "source": [
    "# A Systematic, Flexible Approach to Connecting Rainfall and Land Cover to Flood Damages\n",
    "## Douglas Patton\n",
    "#### This model is a continuation of my work:\n",
    "Patton, Douglas A, Rebecca Moore, Alan P Covich, and John C Bergstrom. 2013. “Ex-Post Reliability Assessment of Benefit Transfer Valuation Estimates of Wetland Ecosystem Service Supported by Okefenokee National Wildlife Refuge.” SSRN Working Paper. https://ssrn.com/abstract=2294080"
   ]
  },
  {
   "cell_type": "markdown",
   "metadata": {
    "slideshow": {
     "slide_type": "slide"
    }
   },
   "source": [
    "## The System\n",
    "\n",
    "1. Land cover influences the hydrologic cycle\n",
    "2. The hydrologic cycle influences human decisions\n",
    "3. Human decisions influence land cover...\n",
    "\n",
    "\n",
    "Gober, P., and H. S. Wheater (2015),Debates—Perspectives on **socio-hydrology**: Modeling flood risk as a public policy problem,Water Resour.Res.,51, 4782–4788, doi:10.1002/2015WR016945."
   ]
  },
  {
   "cell_type": "markdown",
   "metadata": {
    "slideshow": {
     "slide_type": "slide"
    }
   },
   "source": [
    "## Modeling The System\n",
    "### Land cover influences the hydrologic cycle\n",
    "1. Rainfall runoff modeling\n",
    "  \n",
    "2. Connect spatial data to hydrologic model\n",
    "\n",
    "3. Jointly estimate both models\n",
    " \n",
    "   "
   ]
  },
  {
   "cell_type": "markdown",
   "metadata": {
    "slideshow": {
     "slide_type": "slide"
    }
   },
   "source": [
    "## Rainfall Runoff Modeling\n",
    "### Overview of Relevant Hydrologic Models\n",
    "\n",
    "1. Physical - mechanistic\n",
    "2. Conceptual - simplified\n",
    "3. Empirical - blackbox\n",
    "\n",
    "\n",
    "Sitterson, J., Chris Knightes, R. Parmar, K. Wolfe, M. Muche, AND B. Avant. An Overview of Rainfall-Runoff Model Types. U.S. Environmental Protection Agency, Washington, DC, EPA/600/R-17/482, 2017."
   ]
  },
  {
   "cell_type": "markdown",
   "metadata": {
    "slideshow": {
     "slide_type": "slide"
    }
   },
   "source": [
    "## Modeling The System\n",
    "### rainfall runoff modeling\n",
    "##### The Hydrologic Cycle<br>\n",
    "![alt text](https://raw.githubusercontent.com/DouglasPatton/Hydro/master/img/HC.gif)\n",
    "[Image from the University of Illinois WW2010 Project](http://ww2010.atmos.uiuc.edu/(Gh)/guides/mtr/hyd/smry.rxml)"
   ]
  },
  {
   "cell_type": "markdown",
   "metadata": {
    "slideshow": {
     "slide_type": "slide"
    }
   },
   "source": [
    "### A Time Series Rainfall Runoff Model\n",
    "\n",
    "1. Linear Rainfall-Runoff Model\n",
    "    - 50+ lags of rainfall\n",
    "    - other terms temp, AR\n",
    "    \n",
    "  <br> <br><br>\n",
    "2. locally weighted lag model\n",
    "  - KNN + WLS\n",
    "  - hyperparameter tuning\n",
    "      - endogenous time \"window\"\n",
    "      - endogenous discharge \"widow\"\n",
    "\n",
    " "
   ]
  },
  {
   "cell_type": "markdown",
   "metadata": {
    "slideshow": {
     "slide_type": "subslide"
    }
   },
   "source": [
    "## Modeling The System\n",
    "### rainfall runoff modeling\n",
    "#### Time Series Inspired Approach\n",
    "\n",
    "### $f($precip$_{t-1}$,...,precip$_{t-m}$ ,runoff$_{t-n})$ = runoff$_{t}$\n",
    "<br>\n",
    "Rising limb: $m$ lagged precip terms<br>\n",
    "Recession limb: 1 autoregressive term\n",
    "<br>"
   ]
  },
  {
   "cell_type": "markdown",
   "metadata": {
    "slideshow": {
     "slide_type": "subslide"
    }
   },
   "source": [
    "## Modeling The System\n",
    "### rainfall runoff modeling\n",
    "#### Time Series Inspired Approach\n",
    "Estimated lagged precipitation parameters by discharge level\n",
    "![alt text](https://raw.githubusercontent.com/DouglasPatton/Hydro/master/img/okeRR_multiple_dailydata.png)"
   ]
  },
  {
   "cell_type": "markdown",
   "metadata": {
    "slideshow": {
     "slide_type": "slide"
    }
   },
   "source": [
    "## Modeling The System\n",
    "### rainfall runoff modeling\n",
    "#### Current Modeling Goals\n",
    "  - endogenize time \"window\"\n",
    "  - endogenize storage \"window\""
   ]
  },
  {
   "cell_type": "markdown",
   "metadata": {
    "slideshow": {
     "slide_type": "subslide"
    }
   },
   "source": [
    "## Modeling The System\n",
    "### rainfall runoff modeling\n",
    "#### Locally Weighted approach\n",
    "  1. an observation, $i$, is centered, others indexed $j$\n",
    "    1. compute $\\Delta^t_{j}=$ *time*$_i$-*time*$_j$ \n",
    "    2. compute $\\Delta^d_{j}=$*discharge*$_i$-*discharge*$_j$\n",
    "    3. estimate WLS$_i$ where $w_j=exp(Z^t*\\Delta^t_{j}+Z^d*\\Delta^d_{j})$\n",
    "  5. choose $Z^t,Z^d$ to minimize MSE across all i\n",
    "    - where\n",
    "        - *discharge* is estimated with a simple model\n",
    "        - and i can be all or sampled observations\n",
    " "
   ]
  },
  {
   "cell_type": "markdown",
   "metadata": {
    "slideshow": {
     "slide_type": "subslide"
    }
   },
   "source": [
    "## Modeling The System\n",
    "### rainfall runoff modeling\n",
    "#### Locally Weighted approach\n",
    "\n",
    "  - if $Z^t,Z^d$ are both 0\n",
    "    - exp(0)=1\n",
    "    - WLS = OLS for all $i$\n",
    "    - maximum DF\n",
    "    - all models identical\n"
   ]
  },
  {
   "cell_type": "markdown",
   "metadata": {
    "slideshow": {
     "slide_type": "fragment"
    }
   },
   "source": [
    "  - if $Z^d$ is big \n",
    "    - the model varies across discharge levels"
   ]
  },
  {
   "cell_type": "markdown",
   "metadata": {
    "slideshow": {
     "slide_type": "fragment"
    }
   },
   "source": [
    "  - if $Z^t$ is big\n",
    "    - the model varies over time"
   ]
  },
  {
   "cell_type": "markdown",
   "metadata": {
    "slideshow": {
     "slide_type": "fragment"
    }
   },
   "source": [
    "  - if both $Z$ are big\n",
    "    - fewer DF\n",
    "    - more variation across models"
   ]
  },
  {
   "cell_type": "markdown",
   "metadata": {},
   "source": [
    "Use estimated Z to predict\n",
    "    for all i or ranges of i\n",
    "    frequency of i over t and d proportional to Zt and Zd"
   ]
  },
  {
   "cell_type": "markdown",
   "metadata": {
    "slideshow": {
     "slide_type": "subslide"
    }
   },
   "source": [
    "## Modeling The System\n",
    "### rainfall runoff modeling\n",
    "#### Locally Weighted approach\n",
    "\n",
    " -estimation strategies\n",
    "   - include $l_1$ loss function over lagged precip and hyperparameter\n",
    "   - include $l_2$ loss function over $Z$ and hyperparameter"
   ]
  },
  {
   "cell_type": "markdown",
   "metadata": {
    "slideshow": {
     "slide_type": "subslide"
    }
   },
   "source": [
    "## Modeling The System\n",
    "### Current Modeling Goals\n",
    "#### Connect spatial data to hydrologic model\n",
    "##### $g(landscape,precipitation)=f(rainfall)$<br><br>\n",
    "  - parameterized raster algebra\n",
    "  - machine learning + linear algebra\n"
   ]
  },
  {
   "cell_type": "markdown",
   "metadata": {
    "slideshow": {
     "slide_type": "subslide"
    }
   },
   "source": [
    "## Modeling The System\n",
    "### Current Modeling Goals\n",
    "#### Jointly estimate both models\n",
    "##### $g(landscape,precipitation)=runoff$\n",
    "  - recycle hyperparameters from f()\n",
    "  - \n",
    "  \n"
   ]
  }
 ],
 "metadata": {
  "celltoolbar": "Slideshow",
  "kernelspec": {
   "display_name": "Python 3",
   "language": "python",
   "name": "python3"
  },
  "language_info": {
   "codemirror_mode": {
    "name": "ipython",
    "version": 3
   },
   "file_extension": ".py",
   "mimetype": "text/x-python",
   "name": "python",
   "nbconvert_exporter": "python",
   "pygments_lexer": "ipython3",
   "version": "3.7.1"
  },
  "varInspector": {
   "cols": {
    "lenName": 16,
    "lenType": 16,
    "lenVar": 40
   },
   "kernels_config": {
    "python": {
     "delete_cmd_postfix": "",
     "delete_cmd_prefix": "del ",
     "library": "var_list.py",
     "varRefreshCmd": "print(var_dic_list())"
    },
    "r": {
     "delete_cmd_postfix": ") ",
     "delete_cmd_prefix": "rm(",
     "library": "var_list.r",
     "varRefreshCmd": "cat(var_dic_list()) "
    }
   },
   "position": {
    "height": "169.183px",
    "left": "500.833px",
    "right": "20px",
    "top": "120px",
    "width": "351.667px"
   },
   "types_to_exclude": [
    "module",
    "function",
    "builtin_function_or_method",
    "instance",
    "_Feature"
   ],
   "window_display": true
  }
 },
 "nbformat": 4,
 "nbformat_minor": 2
}
